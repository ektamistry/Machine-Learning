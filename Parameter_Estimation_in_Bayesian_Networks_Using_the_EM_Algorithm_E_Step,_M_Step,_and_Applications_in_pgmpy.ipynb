{
  "nbformat": 4,
  "nbformat_minor": 0,
  "metadata": {
    "colab": {
      "provenance": [],
      "include_colab_link": true
    },
    "kernelspec": {
      "name": "python3",
      "display_name": "Python 3"
    },
    "language_info": {
      "name": "python"
    },
    "widgets": {
      "application/vnd.jupyter.widget-state+json": {
        "ca457c14205846cab02b197867860e6c": {
          "model_module": "@jupyter-widgets/controls",
          "model_name": "HBoxModel",
          "model_module_version": "1.5.0",
          "state": {
            "_dom_classes": [],
            "_model_module": "@jupyter-widgets/controls",
            "_model_module_version": "1.5.0",
            "_model_name": "HBoxModel",
            "_view_count": null,
            "_view_module": "@jupyter-widgets/controls",
            "_view_module_version": "1.5.0",
            "_view_name": "HBoxView",
            "box_style": "",
            "children": [
              "IPY_MODEL_65dc15fdb34d4d3ba0199d59b0d43c3d",
              "IPY_MODEL_4133ef7b84684e2f9d0c4ec8ba89c2cb",
              "IPY_MODEL_dd990ce0776641a7a4198b0995ebab8c"
            ],
            "layout": "IPY_MODEL_a7187c120b8e4d9c9a7451cda403dc65"
          }
        },
        "65dc15fdb34d4d3ba0199d59b0d43c3d": {
          "model_module": "@jupyter-widgets/controls",
          "model_name": "HTMLModel",
          "model_module_version": "1.5.0",
          "state": {
            "_dom_classes": [],
            "_model_module": "@jupyter-widgets/controls",
            "_model_module_version": "1.5.0",
            "_model_name": "HTMLModel",
            "_view_count": null,
            "_view_module": "@jupyter-widgets/controls",
            "_view_module_version": "1.5.0",
            "_view_name": "HTMLView",
            "description": "",
            "description_tooltip": null,
            "layout": "IPY_MODEL_6d620f3a233044ce9838a1f080dad8be",
            "placeholder": "​",
            "style": "IPY_MODEL_97257b2b86d74babaa5242176979ecc3",
            "value": "Generating for node: Martha&#x27;s_Rating: 100%"
          }
        },
        "4133ef7b84684e2f9d0c4ec8ba89c2cb": {
          "model_module": "@jupyter-widgets/controls",
          "model_name": "FloatProgressModel",
          "model_module_version": "1.5.0",
          "state": {
            "_dom_classes": [],
            "_model_module": "@jupyter-widgets/controls",
            "_model_module_version": "1.5.0",
            "_model_name": "FloatProgressModel",
            "_view_count": null,
            "_view_module": "@jupyter-widgets/controls",
            "_view_module_version": "1.5.0",
            "_view_name": "ProgressView",
            "bar_style": "success",
            "description": "",
            "description_tooltip": null,
            "layout": "IPY_MODEL_df7a7932d7a7499e86f4d38074d3346a",
            "max": 3,
            "min": 0,
            "orientation": "horizontal",
            "style": "IPY_MODEL_c18fb4bedcc94907845c699fd91fe8c8",
            "value": 3
          }
        },
        "dd990ce0776641a7a4198b0995ebab8c": {
          "model_module": "@jupyter-widgets/controls",
          "model_name": "HTMLModel",
          "model_module_version": "1.5.0",
          "state": {
            "_dom_classes": [],
            "_model_module": "@jupyter-widgets/controls",
            "_model_module_version": "1.5.0",
            "_model_name": "HTMLModel",
            "_view_count": null,
            "_view_module": "@jupyter-widgets/controls",
            "_view_module_version": "1.5.0",
            "_view_name": "HTMLView",
            "description": "",
            "description_tooltip": null,
            "layout": "IPY_MODEL_409389be164b4f2c92cf05c5784e37fd",
            "placeholder": "​",
            "style": "IPY_MODEL_10da6d412d8b4b46b9ba9b4aaa18a740",
            "value": " 3/3 [00:00&lt;00:00,  6.11it/s]"
          }
        },
        "a7187c120b8e4d9c9a7451cda403dc65": {
          "model_module": "@jupyter-widgets/base",
          "model_name": "LayoutModel",
          "model_module_version": "1.2.0",
          "state": {
            "_model_module": "@jupyter-widgets/base",
            "_model_module_version": "1.2.0",
            "_model_name": "LayoutModel",
            "_view_count": null,
            "_view_module": "@jupyter-widgets/base",
            "_view_module_version": "1.2.0",
            "_view_name": "LayoutView",
            "align_content": null,
            "align_items": null,
            "align_self": null,
            "border": null,
            "bottom": null,
            "display": null,
            "flex": null,
            "flex_flow": null,
            "grid_area": null,
            "grid_auto_columns": null,
            "grid_auto_flow": null,
            "grid_auto_rows": null,
            "grid_column": null,
            "grid_gap": null,
            "grid_row": null,
            "grid_template_areas": null,
            "grid_template_columns": null,
            "grid_template_rows": null,
            "height": null,
            "justify_content": null,
            "justify_items": null,
            "left": null,
            "margin": null,
            "max_height": null,
            "max_width": null,
            "min_height": null,
            "min_width": null,
            "object_fit": null,
            "object_position": null,
            "order": null,
            "overflow": null,
            "overflow_x": null,
            "overflow_y": null,
            "padding": null,
            "right": null,
            "top": null,
            "visibility": null,
            "width": null
          }
        },
        "6d620f3a233044ce9838a1f080dad8be": {
          "model_module": "@jupyter-widgets/base",
          "model_name": "LayoutModel",
          "model_module_version": "1.2.0",
          "state": {
            "_model_module": "@jupyter-widgets/base",
            "_model_module_version": "1.2.0",
            "_model_name": "LayoutModel",
            "_view_count": null,
            "_view_module": "@jupyter-widgets/base",
            "_view_module_version": "1.2.0",
            "_view_name": "LayoutView",
            "align_content": null,
            "align_items": null,
            "align_self": null,
            "border": null,
            "bottom": null,
            "display": null,
            "flex": null,
            "flex_flow": null,
            "grid_area": null,
            "grid_auto_columns": null,
            "grid_auto_flow": null,
            "grid_auto_rows": null,
            "grid_column": null,
            "grid_gap": null,
            "grid_row": null,
            "grid_template_areas": null,
            "grid_template_columns": null,
            "grid_template_rows": null,
            "height": null,
            "justify_content": null,
            "justify_items": null,
            "left": null,
            "margin": null,
            "max_height": null,
            "max_width": null,
            "min_height": null,
            "min_width": null,
            "object_fit": null,
            "object_position": null,
            "order": null,
            "overflow": null,
            "overflow_x": null,
            "overflow_y": null,
            "padding": null,
            "right": null,
            "top": null,
            "visibility": null,
            "width": null
          }
        },
        "97257b2b86d74babaa5242176979ecc3": {
          "model_module": "@jupyter-widgets/controls",
          "model_name": "DescriptionStyleModel",
          "model_module_version": "1.5.0",
          "state": {
            "_model_module": "@jupyter-widgets/controls",
            "_model_module_version": "1.5.0",
            "_model_name": "DescriptionStyleModel",
            "_view_count": null,
            "_view_module": "@jupyter-widgets/base",
            "_view_module_version": "1.2.0",
            "_view_name": "StyleView",
            "description_width": ""
          }
        },
        "df7a7932d7a7499e86f4d38074d3346a": {
          "model_module": "@jupyter-widgets/base",
          "model_name": "LayoutModel",
          "model_module_version": "1.2.0",
          "state": {
            "_model_module": "@jupyter-widgets/base",
            "_model_module_version": "1.2.0",
            "_model_name": "LayoutModel",
            "_view_count": null,
            "_view_module": "@jupyter-widgets/base",
            "_view_module_version": "1.2.0",
            "_view_name": "LayoutView",
            "align_content": null,
            "align_items": null,
            "align_self": null,
            "border": null,
            "bottom": null,
            "display": null,
            "flex": null,
            "flex_flow": null,
            "grid_area": null,
            "grid_auto_columns": null,
            "grid_auto_flow": null,
            "grid_auto_rows": null,
            "grid_column": null,
            "grid_gap": null,
            "grid_row": null,
            "grid_template_areas": null,
            "grid_template_columns": null,
            "grid_template_rows": null,
            "height": null,
            "justify_content": null,
            "justify_items": null,
            "left": null,
            "margin": null,
            "max_height": null,
            "max_width": null,
            "min_height": null,
            "min_width": null,
            "object_fit": null,
            "object_position": null,
            "order": null,
            "overflow": null,
            "overflow_x": null,
            "overflow_y": null,
            "padding": null,
            "right": null,
            "top": null,
            "visibility": null,
            "width": null
          }
        },
        "c18fb4bedcc94907845c699fd91fe8c8": {
          "model_module": "@jupyter-widgets/controls",
          "model_name": "ProgressStyleModel",
          "model_module_version": "1.5.0",
          "state": {
            "_model_module": "@jupyter-widgets/controls",
            "_model_module_version": "1.5.0",
            "_model_name": "ProgressStyleModel",
            "_view_count": null,
            "_view_module": "@jupyter-widgets/base",
            "_view_module_version": "1.2.0",
            "_view_name": "StyleView",
            "bar_color": null,
            "description_width": ""
          }
        },
        "409389be164b4f2c92cf05c5784e37fd": {
          "model_module": "@jupyter-widgets/base",
          "model_name": "LayoutModel",
          "model_module_version": "1.2.0",
          "state": {
            "_model_module": "@jupyter-widgets/base",
            "_model_module_version": "1.2.0",
            "_model_name": "LayoutModel",
            "_view_count": null,
            "_view_module": "@jupyter-widgets/base",
            "_view_module_version": "1.2.0",
            "_view_name": "LayoutView",
            "align_content": null,
            "align_items": null,
            "align_self": null,
            "border": null,
            "bottom": null,
            "display": null,
            "flex": null,
            "flex_flow": null,
            "grid_area": null,
            "grid_auto_columns": null,
            "grid_auto_flow": null,
            "grid_auto_rows": null,
            "grid_column": null,
            "grid_gap": null,
            "grid_row": null,
            "grid_template_areas": null,
            "grid_template_columns": null,
            "grid_template_rows": null,
            "height": null,
            "justify_content": null,
            "justify_items": null,
            "left": null,
            "margin": null,
            "max_height": null,
            "max_width": null,
            "min_height": null,
            "min_width": null,
            "object_fit": null,
            "object_position": null,
            "order": null,
            "overflow": null,
            "overflow_x": null,
            "overflow_y": null,
            "padding": null,
            "right": null,
            "top": null,
            "visibility": null,
            "width": null
          }
        },
        "10da6d412d8b4b46b9ba9b4aaa18a740": {
          "model_module": "@jupyter-widgets/controls",
          "model_name": "DescriptionStyleModel",
          "model_module_version": "1.5.0",
          "state": {
            "_model_module": "@jupyter-widgets/controls",
            "_model_module_version": "1.5.0",
            "_model_name": "DescriptionStyleModel",
            "_view_count": null,
            "_view_module": "@jupyter-widgets/base",
            "_view_module_version": "1.2.0",
            "_view_name": "StyleView",
            "description_width": ""
          }
        }
      }
    }
  },
  "cells": [
    {
      "cell_type": "markdown",
      "metadata": {
        "id": "view-in-github",
        "colab_type": "text"
      },
      "source": [
        "<a href=\"https://colab.research.google.com/github/ektamistry/Machine-Learning/blob/main/Parameter_Estimation_in_Bayesian_Networks_Using_the_EM_Algorithm_E_Step%2C_M_Step%2C_and_Applications_in_pgmpy.ipynb\" target=\"_parent\"><img src=\"https://colab.research.google.com/assets/colab-badge.svg\" alt=\"Open In Colab\"/></a>"
      ]
    },
    {
      "cell_type": "markdown",
      "source": [
        "I070\n",
        "Ekta Mistry\n",
        "\n",
        "Batch 1"
      ],
      "metadata": {
        "id": "Rir5sI-0fTIH"
      }
    },
    {
      "cell_type": "code",
      "execution_count": null,
      "metadata": {
        "colab": {
          "base_uri": "https://localhost:8080/"
        },
        "id": "teBO386QdSvY",
        "outputId": "4cdc79d5-c3f4-4f79-e1ab-da53eec16bb2"
      },
      "outputs": [
        {
          "output_type": "stream",
          "name": "stdout",
          "text": [
            "Looking in indexes: https://pypi.org/simple, https://us-python.pkg.dev/colab-wheels/public/simple/\n",
            "Collecting pgmpy\n",
            "  Downloading pgmpy-0.1.21-py3-none-any.whl (1.9 MB)\n",
            "\u001b[2K     \u001b[90m━━━━━━━━━━━━━━━━━━━━━━━━━━━━━━━━━━━━━━━━\u001b[0m \u001b[32m1.9/1.9 MB\u001b[0m \u001b[31m23.6 MB/s\u001b[0m eta \u001b[36m0:00:00\u001b[0m\n",
            "\u001b[?25hRequirement already satisfied: numpy in /usr/local/lib/python3.9/dist-packages (from pgmpy) (1.22.4)\n",
            "Requirement already satisfied: scipy in /usr/local/lib/python3.9/dist-packages (from pgmpy) (1.10.1)\n",
            "Requirement already satisfied: pandas in /usr/local/lib/python3.9/dist-packages (from pgmpy) (1.4.4)\n",
            "Requirement already satisfied: scikit-learn in /usr/local/lib/python3.9/dist-packages (from pgmpy) (1.2.2)\n",
            "Requirement already satisfied: statsmodels in /usr/local/lib/python3.9/dist-packages (from pgmpy) (0.13.5)\n",
            "Requirement already satisfied: tqdm in /usr/local/lib/python3.9/dist-packages (from pgmpy) (4.65.0)\n",
            "Requirement already satisfied: networkx in /usr/local/lib/python3.9/dist-packages (from pgmpy) (3.0)\n",
            "Requirement already satisfied: pyparsing in /usr/local/lib/python3.9/dist-packages (from pgmpy) (3.0.9)\n",
            "Requirement already satisfied: torch in /usr/local/lib/python3.9/dist-packages (from pgmpy) (2.0.0+cu118)\n",
            "Requirement already satisfied: joblib in /usr/local/lib/python3.9/dist-packages (from pgmpy) (1.1.1)\n",
            "Requirement already satisfied: opt-einsum in /usr/local/lib/python3.9/dist-packages (from pgmpy) (3.3.0)\n",
            "Requirement already satisfied: python-dateutil>=2.8.1 in /usr/local/lib/python3.9/dist-packages (from pandas->pgmpy) (2.8.2)\n",
            "Requirement already satisfied: pytz>=2020.1 in /usr/local/lib/python3.9/dist-packages (from pandas->pgmpy) (2022.7.1)\n",
            "Requirement already satisfied: threadpoolctl>=2.0.0 in /usr/local/lib/python3.9/dist-packages (from scikit-learn->pgmpy) (3.1.0)\n",
            "Requirement already satisfied: packaging>=21.3 in /usr/local/lib/python3.9/dist-packages (from statsmodels->pgmpy) (23.0)\n",
            "Requirement already satisfied: patsy>=0.5.2 in /usr/local/lib/python3.9/dist-packages (from statsmodels->pgmpy) (0.5.3)\n",
            "Requirement already satisfied: typing-extensions in /usr/local/lib/python3.9/dist-packages (from torch->pgmpy) (4.5.0)\n",
            "Requirement already satisfied: filelock in /usr/local/lib/python3.9/dist-packages (from torch->pgmpy) (3.10.7)\n",
            "Requirement already satisfied: jinja2 in /usr/local/lib/python3.9/dist-packages (from torch->pgmpy) (3.1.2)\n",
            "Requirement already satisfied: sympy in /usr/local/lib/python3.9/dist-packages (from torch->pgmpy) (1.11.1)\n",
            "Requirement already satisfied: triton==2.0.0 in /usr/local/lib/python3.9/dist-packages (from torch->pgmpy) (2.0.0)\n",
            "Requirement already satisfied: cmake in /usr/local/lib/python3.9/dist-packages (from triton==2.0.0->torch->pgmpy) (3.25.2)\n",
            "Requirement already satisfied: lit in /usr/local/lib/python3.9/dist-packages (from triton==2.0.0->torch->pgmpy) (16.0.0)\n",
            "Requirement already satisfied: six in /usr/local/lib/python3.9/dist-packages (from patsy>=0.5.2->statsmodels->pgmpy) (1.16.0)\n",
            "Requirement already satisfied: MarkupSafe>=2.0 in /usr/local/lib/python3.9/dist-packages (from jinja2->torch->pgmpy) (2.1.2)\n",
            "Requirement already satisfied: mpmath>=0.19 in /usr/local/lib/python3.9/dist-packages (from sympy->torch->pgmpy) (1.3.0)\n",
            "Installing collected packages: pgmpy\n",
            "Successfully installed pgmpy-0.1.21\n"
          ]
        }
      ],
      "source": [
        "pip install pgmpy"
      ]
    },
    {
      "cell_type": "markdown",
      "source": [
        "#Create the model"
      ],
      "metadata": {
        "id": "RQ_ic0u8eEkd"
      }
    },
    {
      "cell_type": "code",
      "source": [
        "import pgmpy\n",
        "from pgmpy.models import BayesianNetwork\n",
        "model = BayesianNetwork(\n",
        "[\n",
        "(\"Genre\",\"Jim's_Rating\"),\n",
        "(\"Genre\",\"Martha's_Rating\"),\n",
        "]\n",
        ")"
      ],
      "metadata": {
        "id": "Pn0gG-WGeBVn"
      },
      "execution_count": null,
      "outputs": []
    },
    {
      "cell_type": "markdown",
      "source": [
        "#Define CPDs"
      ],
      "metadata": {
        "id": "xcymEVhxeG94"
      }
    },
    {
      "cell_type": "code",
      "source": [
        "from pgmpy.factors.discrete import TabularCPD\n",
        "cpd_G = TabularCPD(\n",
        "variable = \"Genre\", variable_card = 2, values = [[0.5],[0.5]],\n",
        ")\n",
        "cpd_R1 = TabularCPD(\n",
        "variable = \"Jim's_Rating\",\n",
        "variable_card = 2,\n",
        "values = [[0.4, 0.6], [0.6,0.4]],\n",
        "evidence = [\"Genre\"],\n",
        "evidence_card = [2],\n",
        ")\n",
        "cpd_R2 = TabularCPD(\n",
        "variable = \"Martha's_Rating\",\n",
        "variable_card = 2,\n",
        "values = [[0.6,0.4],[0.4,0.6]],\n",
        "evidence = [\"Genre\"],\n",
        "evidence_card = [2],\n",
        ")"
      ],
      "metadata": {
        "id": "_WVkmRtgeL31"
      },
      "execution_count": null,
      "outputs": []
    },
    {
      "cell_type": "markdown",
      "source": [
        "#Adding CPD to our Model"
      ],
      "metadata": {
        "id": "KJeDkSyreNg1"
      }
    },
    {
      "cell_type": "code",
      "source": [
        "model.add_cpds(cpd_G, cpd_R1, cpd_R2)\n",
        "model.check_model()"
      ],
      "metadata": {
        "colab": {
          "base_uri": "https://localhost:8080/"
        },
        "id": "UQQ4VNmfeQSu",
        "outputId": "e15dadd4-9462-468a-833c-757e9ed24af3"
      },
      "execution_count": null,
      "outputs": [
        {
          "output_type": "execute_result",
          "data": {
            "text/plain": [
              "True"
            ]
          },
          "metadata": {},
          "execution_count": 4
        }
      ]
    },
    {
      "cell_type": "code",
      "source": [
        "model.nodes()"
      ],
      "metadata": {
        "colab": {
          "base_uri": "https://localhost:8080/"
        },
        "id": "Q4abGaioeR0i",
        "outputId": "db4b1d12-426d-4f6b-e30d-12b1a4e5b138"
      },
      "execution_count": null,
      "outputs": [
        {
          "output_type": "execute_result",
          "data": {
            "text/plain": [
              "NodeView(('Genre', \"Jim's_Rating\", \"Martha's_Rating\"))"
            ]
          },
          "metadata": {},
          "execution_count": 5
        }
      ]
    },
    {
      "cell_type": "markdown",
      "source": [
        "#Creating model"
      ],
      "metadata": {
        "id": "BxyDQQSdeXTY"
      }
    },
    {
      "cell_type": "code",
      "source": [
        "import networkx as nx\n",
        "import matplotlib.pyplot as plt\n",
        "nx_graph = nx.DiGraph(model.edges())\n",
        "nx.draw(nx_graph,with_labels = True)\n",
        "plt.show()"
      ],
      "metadata": {
        "colab": {
          "base_uri": "https://localhost:8080/",
          "height": 516
        },
        "id": "g6xq73FzeYeU",
        "outputId": "5ffceac4-5cda-4270-d33e-3e78db5491ea"
      },
      "execution_count": null,
      "outputs": [
        {
          "output_type": "display_data",
          "data": {
            "text/plain": [
              "<Figure size 640x480 with 1 Axes>"
            ],
            "image/png": "[encoded data removed]"
          },
          "metadata": {}
        }
      ]
    },
    {
      "cell_type": "code",
      "source": [
        "from pgmpy.estimators import MaximumLikelihoodEstimator\n",
        "from pgmpy.sampling import BayesianModelSampling\n",
        "samples = BayesianModelSampling(model).forward_sample(size = int(1e5))\n",
        "samples.head()\n",
        "mle = MaximumLikelihoodEstimator(model = model, data = samples)"
      ],
      "metadata": {
        "colab": {
          "base_uri": "https://localhost:8080/",
          "height": 49,
          "referenced_widgets": [
            "ca457c14205846cab02b197867860e6c",
            "65dc15fdb34d4d3ba0199d59b0d43c3d",
            "4133ef7b84684e2f9d0c4ec8ba89c2cb",
            "dd990ce0776641a7a4198b0995ebab8c",
            "a7187c120b8e4d9c9a7451cda403dc65",
            "6d620f3a233044ce9838a1f080dad8be",
            "97257b2b86d74babaa5242176979ecc3",
            "df7a7932d7a7499e86f4d38074d3346a",
            "c18fb4bedcc94907845c699fd91fe8c8",
            "409389be164b4f2c92cf05c5784e37fd",
            "10da6d412d8b4b46b9ba9b4aaa18a740"
          ]
        },
        "id": "Rcvu7wN7ectM",
        "outputId": "2b4f1a46-dd66-4930-aad6-346ab1254afd"
      },
      "execution_count": null,
      "outputs": [
        {
          "output_type": "display_data",
          "data": {
            "text/plain": [
              "  0%|          | 0/3 [00:00<?, ?it/s]"
            ],
            "application/vnd.jupyter.widget-view+json": {
              "version_major": 2,
              "version_minor": 0,
              "model_id": "ca457c14205846cab02b197867860e6c"
            }
          },
          "metadata": {}
        }
      ]
    },
    {
      "cell_type": "markdown",
      "source": [
        "Estimating the CPD for a single node"
      ],
      "metadata": {
        "id": "HQr-AsfjejoE"
      }
    },
    {
      "cell_type": "code",
      "source": [
        "mle.get_parameters()[:3]"
      ],
      "metadata": {
        "colab": {
          "base_uri": "https://localhost:8080/"
        },
        "id": "CW8HBw4Gektz",
        "outputId": "ded372b0-7fdc-4c79-e0d9-15f76fbcfa1f"
      },
      "execution_count": null,
      "outputs": [
        {
          "output_type": "execute_result",
          "data": {
            "text/plain": [
              "[<TabularCPD representing P(Genre:2) at 0x7f8224e2f6a0>,\n",
              " <TabularCPD representing P(Jim's_Rating:2 | Genre:2) at 0x7f821c494910>,\n",
              " <TabularCPD representing P(Martha's_Rating:2 | Genre:2) at 0x7f8224e2f7c0>]"
            ]
          },
          "metadata": {},
          "execution_count": 8
        }
      ]
    },
    {
      "cell_type": "code",
      "source": [
        "print(mle.estimate_cpd(node = 'Genre'))"
      ],
      "metadata": {
        "colab": {
          "base_uri": "https://localhost:8080/"
        },
        "id": "mEUiMK1VemV3",
        "outputId": "1e21e796-352d-4057-c0b6-d9f6c888787d"
      },
      "execution_count": null,
      "outputs": [
        {
          "output_type": "stream",
          "name": "stdout",
          "text": [
            "+----------+---------+\n",
            "| Genre(0) | 0.50079 |\n",
            "+----------+---------+\n",
            "| Genre(1) | 0.49921 |\n",
            "+----------+---------+\n"
          ]
        }
      ]
    },
    {
      "cell_type": "code",
      "source": [
        "print(mle.estimate_cpd(node = \"Martha's_Rating\"))"
      ],
      "metadata": {
        "colab": {
          "base_uri": "https://localhost:8080/"
        },
        "id": "6rDbZ-zZenXc",
        "outputId": "88e62100-e72f-45ab-fccf-a75d9c72083d"
      },
      "execution_count": null,
      "outputs": [
        {
          "output_type": "stream",
          "name": "stdout",
          "text": [
            "+--------------------+--------------------+--------------------+\n",
            "| Genre              | Genre(0)           | Genre(1)           |\n",
            "+--------------------+--------------------+--------------------+\n",
            "| Martha's_Rating(0) | 0.5993130853251862 | 0.3995312593898359 |\n",
            "+--------------------+--------------------+--------------------+\n",
            "| Martha's_Rating(1) | 0.4006869146748138 | 0.6004687406101641 |\n",
            "+--------------------+--------------------+--------------------+\n"
          ]
        }
      ]
    },
    {
      "cell_type": "code",
      "source": [
        "import numpy as np\n",
        "np.allclose(\n",
        "model.get_cpds(\"Jim's_Rating\").values,mle.estimate_cpd(\"Jim's_Rating\").\n",
        "values, atol = 0.01\n",
        ")"
      ],
      "metadata": {
        "colab": {
          "base_uri": "https://localhost:8080/"
        },
        "id": "IcVajBXHerAr",
        "outputId": "6487802b-10e8-4ada-a199-55764017274d"
      },
      "execution_count": null,
      "outputs": [
        {
          "output_type": "execute_result",
          "data": {
            "text/plain": [
              "True"
            ]
          },
          "metadata": {},
          "execution_count": 14
        }
      ]
    },
    {
      "cell_type": "code",
      "source": [
        "from pgmpy.estimators import BayesianEstimator\n",
        "best = BayesianEstimator(model = model, data = samples)\n",
        "print(best.estimate_cpd(node = \"Jim's_Rating\",prior_type = \"BDeu\",equivalent_sample_size = 1000))"
      ],
      "metadata": {
        "colab": {
          "base_uri": "https://localhost:8080/"
        },
        "id": "GGup5pdVe4rR",
        "outputId": "d4eda41f-57c5-4190-a3be-97a5893039a9"
      },
      "execution_count": null,
      "outputs": [
        {
          "output_type": "stream",
          "name": "stdout",
          "text": [
            "+-----------------+---------------------+--------------------+\n",
            "| Genre           | Genre(0)            | Genre(1)           |\n",
            "+-----------------+---------------------+--------------------+\n",
            "| Jim's_Rating(0) | 0.39901935585915105 | 0.5980642986057396 |\n",
            "+-----------------+---------------------+--------------------+\n",
            "| Jim's_Rating(1) | 0.600980644140849   | 0.4019357013942603 |\n",
            "+-----------------+---------------------+--------------------+\n"
          ]
        }
      ]
    },
    {
      "cell_type": "markdown",
      "source": [
        "#Uniform pseudo count for each state"
      ],
      "metadata": {
        "id": "pBmN8hVRe8GZ"
      }
    },
    {
      "cell_type": "code",
      "source": [
        "print(best.estimate_cpd(node = \"Jim's_Rating\", prior_type = \"BDeu\",pseudo_counts = 100))"
      ],
      "metadata": {
        "colab": {
          "base_uri": "https://localhost:8080/"
        },
        "id": "peBPNteVe_Re",
        "outputId": "73c45c6c-52f2-4c32-8343-3f7f66aeb11c"
      },
      "execution_count": null,
      "outputs": [
        {
          "output_type": "stream",
          "name": "stdout",
          "text": [
            "+-----------------+--------------------+--------------------+\n",
            "| Genre           | Genre(0)           | Genre(1)           |\n",
            "+-----------------+--------------------+--------------------+\n",
            "| Jim's_Rating(0) | 0.3980162335393309 | 0.5990415335463258 |\n",
            "+-----------------+--------------------+--------------------+\n",
            "| Jim's_Rating(1) | 0.6019837664606691 | 0.4009584664536741 |\n",
            "+-----------------+--------------------+--------------------+\n"
          ]
        },
        {
          "output_type": "stream",
          "name": "stderr",
          "text": [
            "/usr/local/lib/python3.9/dist-packages/pgmpy/estimators/BayesianEstimator.py:193: UserWarning: pseudo count specified with bdeu prior. It will be ignored, use dirichlet prior for specifying pseudo_counts\n",
            "  warn(\n"
          ]
        }
      ]
    },
    {
      "cell_type": "markdown",
      "source": [
        "#Learning CPD for all nodes of the model"
      ],
      "metadata": {
        "id": "YpaurkN1fCcu"
      }
    },
    {
      "cell_type": "code",
      "source": [
        "best.get_parameters(prior_type = \"BDeu\", equivalent_sample_size = 1000)[:10]"
      ],
      "metadata": {
        "colab": {
          "base_uri": "https://localhost:8080/"
        },
        "id": "ggTL2hTkfE2Y",
        "outputId": "7044e89f-b28f-4636-c418-fbeb932bd3a9"
      },
      "execution_count": null,
      "outputs": [
        {
          "output_type": "execute_result",
          "data": {
            "text/plain": [
              "[<TabularCPD representing P(Genre:2) at 0x7f8219107640>,\n",
              " <TabularCPD representing P(Jim's_Rating:2 | Genre:2) at 0x7f8219107340>,\n",
              " <TabularCPD representing P(Martha's_Rating:2 | Genre:2) at 0x7f821bc17fd0>]"
            ]
          },
          "metadata": {},
          "execution_count": 18
        }
      ]
    },
    {
      "cell_type": "code",
      "source": [
        "model.fit(\n",
        "\n",
        "data = samples,\n",
        "estimator = BayesianEstimator,\n",
        "prior_type = \"BDeu\",\n",
        "equivalent_sample_size = 1000,\n",
        ")\n",
        "print(model.get_cpds(\"Jim's_Rating\"))"
      ],
      "metadata": {
        "colab": {
          "base_uri": "https://localhost:8080/"
        },
        "id": "7pykLA8efIRU",
        "outputId": "afc64929-108e-4209-89c6-387bf6d54247"
      },
      "execution_count": null,
      "outputs": [
        {
          "output_type": "stream",
          "name": "stdout",
          "text": [
            "+-----------------+---------------------+--------------------+\n",
            "| Genre           | Genre(0)            | Genre(1)           |\n",
            "+-----------------+---------------------+--------------------+\n",
            "| Jim's_Rating(0) | 0.39901935585915105 | 0.5980642986057396 |\n",
            "+-----------------+---------------------+--------------------+\n",
            "| Jim's_Rating(1) | 0.600980644140849   | 0.4019357013942603 |\n",
            "+-----------------+---------------------+--------------------+\n"
          ]
        }
      ]
    },
    {
      "cell_type": "markdown",
      "source": [
        "#Observations\n",
        "The EM algorithm is commonly used to estimate the parameters of Bayesian networks when there is incomplete data. It consists of two steps, the E step and the M step, where the expected values of missing data are computed in the E step and the parameters are updated in the M step by maximizing the log-likelihood function with respect to the expected values. The algorithm converges to a local maximum of the log-likelihood function, but not necessarily the global maximum. It can handle different types of Bayesian networks and can also be extended to handle structural learning of Bayesian networks."
      ],
      "metadata": {
        "id": "PQpboE85f8Iw"
      }
    },
    {
      "cell_type": "markdown",
      "source": [
        "#Conclusion\n",
        "\n",
        "Therfore, I have implemented the EM algorithm on Bayesian networks via pgmpy\n",
        "\n"
      ],
      "metadata": {
        "id": "iZ05ERcQgX__"
      }
    }
  ]
}