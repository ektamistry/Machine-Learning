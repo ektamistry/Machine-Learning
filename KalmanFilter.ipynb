{
  "nbformat": 4,
  "nbformat_minor": 0,
  "metadata": {
    "colab": {
      "provenance": [],
      "include_colab_link": true
    },
    "kernelspec": {
      "name": "python3",
      "display_name": "Python 3"
    },
    "language_info": {
      "name": "python"
    }
  },
  "cells": [
    {
      "cell_type": "markdown",
      "metadata": {
        "id": "view-in-github",
        "colab_type": "text"
      },
      "source": [
        "<a href=\"https://colab.research.google.com/github/ektamistry/Machine-Learning/blob/main/KalmanFilter.ipynb\" target=\"_parent\"><img src=\"https://colab.research.google.com/assets/colab-badge.svg\" alt=\"Open In Colab\"/></a>"
      ]
    },
    {
      "cell_type": "code",
      "execution_count": null,
      "metadata": {
        "id": "As01vF4fW3GW"
      },
      "outputs": [],
      "source": [
        "import numpy as np"
      ]
    },
    {
      "cell_type": "code",
      "source": [
        "x0 = 4000 #m\n",
        "vx0 = 280 #m/s\n",
        "ax = 2 #m/s2\n",
        "dt = 1"
      ],
      "metadata": {
        "id": "IhhxyFM4W41M"
      },
      "execution_count": null,
      "outputs": []
    },
    {
      "cell_type": "code",
      "source": [
        "# Process Errors\n",
        "dPx = 20 #m\n",
        "dPvx = 5 #m/s\n",
        "# Observation Errors\n",
        "dx = 25 #m\n",
        "dVx = 6 #m/s"
      ],
      "metadata": {
        "id": "NI5K9c37W7E1"
      },
      "execution_count": null,
      "outputs": []
    },
    {
      "cell_type": "code",
      "source": [
        "# Observations\n",
        "x1 = 4260\n",
        "vx1 = 282\n",
        "x2 = 4550\n",
        "vx2 = 285\n",
        "x3 = 4860\n",
        "vx3 = 286\n",
        "x4 = 5110\n",
        "vx4 = 290"
      ],
      "metadata": {
        "id": "FTstWZCvW9Nw"
      },
      "execution_count": null,
      "outputs": []
    },
    {
      "cell_type": "markdown",
      "source": [
        "#Predicted state"
      ],
      "metadata": {
        "id": "O8IkSg40W9hL"
      }
    },
    {
      "cell_type": "code",
      "source": [
        "def A(dt):\n",
        "  return np.array([[1, dt],\n",
        "                 [0 , 1]])"
      ],
      "metadata": {
        "id": "2Q1n2AzkW-j-"
      },
      "execution_count": null,
      "outputs": []
    },
    {
      "cell_type": "code",
      "source": [
        "def B(dt):\n",
        "\n",
        "  return np.array([[0.5*(dt**2)],\n",
        "                  [dt]])"
      ],
      "metadata": {
        "id": "88mcc6kqXGtI"
      },
      "execution_count": null,
      "outputs": []
    },
    {
      "cell_type": "code",
      "source": [
        "def R(dx, dVx):\n",
        "\n",
        "  # Observation errors\n",
        "  return np.array([[dx**2, 0],\n",
        "        [0 , dVx**2]])"
      ],
      "metadata": {
        "id": "-bwDvNewXKzp"
      },
      "execution_count": null,
      "outputs": []
    },
    {
      "cell_type": "code",
      "source": [
        "def CalculatePredictedState(X, dt, ax, wk = 0):\n",
        "  Xkp = np.add(np.dot(A(dt), X),np.dot(B(dt), ax))\n",
        "  Xkp = np.add(Xkp, wk)\n",
        "  return Xkp"
      ],
      "metadata": {
        "id": "cw2CKSSNXQ6s"
      },
      "execution_count": null,
      "outputs": []
    },
    {
      "cell_type": "code",
      "source": [
        "X = np.array([[x0], [vx0]])\n",
        "\n",
        "X1p = CalculatePredictedState(X, dt, ax)\n",
        "X1p"
      ],
      "metadata": {
        "colab": {
          "base_uri": "https://localhost:8080/"
        },
        "id": "cPrUIpzVXSTl",
        "outputId": "f05ed63a-4351-427c-f428-d6593aade3f4"
      },
      "execution_count": null,
      "outputs": [
        {
          "output_type": "execute_result",
          "data": {
            "text/plain": [
              "array([[ 4281.000],\n",
              "       [ 282.000]])"
            ]
          },
          "metadata": {},
          "execution_count": 17
        }
      ]
    },
    {
      "cell_type": "code",
      "source": [
        "#Initial process covar matrix\n",
        "def InitalProcessCovMat(dPx, dPvx):\n",
        "\n",
        "  # we are ignoring the non-diagonal terms\n",
        "  P0 = np.array([[dPx**2, 0],\n",
        "  [0 , dPvx**2]])\n",
        "  return P0"
      ],
      "metadata": {
        "id": "XywbO4j6XX6z"
      },
      "execution_count": null,
      "outputs": []
    },
    {
      "cell_type": "code",
      "source": [
        "P0 = InitalProcessCovMat(dPx, dPvx)"
      ],
      "metadata": {
        "id": "9LDcM6ucXdTX"
      },
      "execution_count": null,
      "outputs": []
    },
    {
      "cell_type": "code",
      "source": [
        "#Predicted process covariance matrix"
      ],
      "metadata": {
        "id": "Y3m4MI_pXe12"
      },
      "execution_count": null,
      "outputs": []
    },
    {
      "cell_type": "code",
      "source": [
        "def PredictedProcessCovariance(Pkminus1, dt, Qr = 0):\n",
        "  Pkp = A(dt).dot(Pkminus1).dot(A(dt).transpose()) + Qr\n",
        "  Pkp = Pkp*np.identity(len(Pkp)) # ignoring non-diagonal elements\n",
        "  return Pkp"
      ],
      "metadata": {
        "id": "zwZVcbiCXjHU"
      },
      "execution_count": null,
      "outputs": []
    },
    {
      "cell_type": "code",
      "source": [
        "P1p = PredictedProcessCovariance(P0, dt)\n",
        "\n",
        "P1p"
      ],
      "metadata": {
        "colab": {
          "base_uri": "https://localhost:8080/"
        },
        "id": "jFvoE_avXmIe",
        "outputId": "d0998b86-34c1-4763-dad5-eee5c95e4be7"
      },
      "execution_count": null,
      "outputs": [
        {
          "output_type": "execute_result",
          "data": {
            "text/plain": [
              "array([[ 425.000,  0.000],\n",
              "       [ 0.000,  25.000]])"
            ]
          },
          "metadata": {},
          "execution_count": 22
        }
      ]
    },
    {
      "cell_type": "code",
      "source": [
        "#Kalman gain"
      ],
      "metadata": {
        "id": "DxMA-eTSXnSk"
      },
      "execution_count": null,
      "outputs": []
    },
    {
      "cell_type": "code",
      "source": [
        "def KalmanGain(Pkp, dx, dVx):\n",
        "  H = np.identity(len(Pkp))\n",
        "  numerator = Pkp*H.transpose()\n",
        "  d1 = H.dot(Pkp).dot(H.transpose())\n",
        "  denominator = np.add(d1, R(dx, dVx))\n",
        "  K = np.divide(numerator, denominator)\n",
        "  K = np.nan_to_num(K)\n",
        "  return K"
      ],
      "metadata": {
        "id": "lUlFcJtqXoAw"
      },
      "execution_count": null,
      "outputs": []
    },
    {
      "cell_type": "code",
      "source": [
        "K1 = KalmanGain(P1p, dx, dVx)\n",
        "\n",
        "K1"
      ],
      "metadata": {
        "colab": {
          "base_uri": "https://localhost:8080/"
        },
        "id": "tfq6OXlgXuQy",
        "outputId": "326ee2bf-b66f-4fc8-9a55-dc12bb0162ed"
      },
      "execution_count": null,
      "outputs": [
        {
          "output_type": "execute_result",
          "data": {
            "text/plain": [
              "array([[ 0.405,  0.000],\n",
              "       [ 0.000,  0.410]])"
            ]
          },
          "metadata": {},
          "execution_count": 25
        }
      ]
    },
    {
      "cell_type": "code",
      "source": [
        "#Find new observation\n",
        "def newObservation(x1, vx1, Z1=0):\n",
        "  Ykm = np.array([[x1], [vx1]])\n",
        "  C = np.identity(len(Ykm))\n",
        "  Yk = np.dot(C, Ykm) + Z1\n",
        "  return Yk"
      ],
      "metadata": {
        "id": "25G1FsFXYj8h"
      },
      "execution_count": null,
      "outputs": []
    },
    {
      "cell_type": "code",
      "source": [
        "Y1 = newObservation(x1, vx1)\n",
        "\n",
        "Y1"
      ],
      "metadata": {
        "colab": {
          "base_uri": "https://localhost:8080/"
        },
        "id": "_0VBHgm1YqEf",
        "outputId": "660e5e30-43f8-43f5-db71-281f6530610e"
      },
      "execution_count": null,
      "outputs": [
        {
          "output_type": "execute_result",
          "data": {
            "text/plain": [
              "array([[ 4260.000],\n",
              "       [ 282.000]])"
            ]
          },
          "metadata": {},
          "execution_count": 27
        }
      ]
    },
    {
      "cell_type": "code",
      "source": [
        "#Calc current est\n",
        "def CurrentEstimate(Xkp, K, Yk):\n",
        "  H = np.identity(len(Xkp[0]))\n",
        "  temp1 = np.subtract(Yk , np.multiply(H,Xkp))\n",
        "  Xk = np.add(Xkp , np.dot(K, temp1))\n",
        "  return Xk"
      ],
      "metadata": {
        "id": "-TTx0gu4Yrex"
      },
      "execution_count": null,
      "outputs": []
    },
    {
      "cell_type": "code",
      "source": [
        "X1 = CurrentEstimate(X1p, K1, Y1)\n",
        "\n",
        "X1"
      ],
      "metadata": {
        "colab": {
          "base_uri": "https://localhost:8080/"
        },
        "id": "fu4dTG_LYz15",
        "outputId": "70722107-58a1-4f43-b0e5-15feba849878"
      },
      "execution_count": null,
      "outputs": [
        {
          "output_type": "execute_result",
          "data": {
            "text/plain": [
              "array([[ 4272.500],\n",
              "       [ 282.000]])"
            ]
          },
          "metadata": {},
          "execution_count": 29
        }
      ]
    },
    {
      "cell_type": "code",
      "source": [
        "#Update process covar matrix\n",
        "\n",
        "def newProcessCovMat(K, Pkp):\n",
        "  I = H = np.identity(len(Pkp))\n",
        "  temp = np.subtract(I, np.multiply(K, H))\n",
        "  Pk = np.dot(temp, Pkp)\n",
        "  return Pk"
      ],
      "metadata": {
        "id": "gQ-vcWPeY8jA"
      },
      "execution_count": null,
      "outputs": []
    },
    {
      "cell_type": "code",
      "source": [
        "P1 = newProcessCovMat(K1, P1p)\n",
        "\n",
        "P1"
      ],
      "metadata": {
        "colab": {
          "base_uri": "https://localhost:8080/"
        },
        "id": "1eG9zyyDZB2b",
        "outputId": "fec70540-b057-4db7-d3b5-16e2eb2a7521"
      },
      "execution_count": null,
      "outputs": [
        {
          "output_type": "execute_result",
          "data": {
            "text/plain": [
              "array([[ 252.976,  0.000],\n",
              "       [ 0.000,  14.754]])"
            ]
          },
          "metadata": {},
          "execution_count": 31
        }
      ]
    },
    {
      "cell_type": "code",
      "source": [
        "def KalmanFilter(x, vx, dt, ax, dPx, dPvx):\n",
        "\n",
        "  # Suppress/hide the warning\n",
        "  np.seterr(invalid='ignore')\n",
        "  # printing options\n",
        "  np.set_printoptions(formatter={'float': '{: 0.3f}'.format})\n",
        "  # Step 0: Initial Values (X0 and P0)\n",
        "  Xkminus1 = np.array([[x[0]], [vx[0]]])\n",
        "  Pkminus1 = InitalProcessCovMat(dPx, dPvx)\n",
        "  final_results = []\n",
        "  for k in range(1, len(x)):\n",
        "    print(\"--------------------------------------------------------------------------------------\")\n",
        "    print(\"Iteration with k = \", k)\n",
        "    print(\"--------------------------------------------------------------------------------------\")\n",
        "    # Step 1: Calculate Predicted State\n",
        "    Xkp = CalculatePredictedState(Xkminus1, dt, ax)\n",
        "    print(f\"X{k}p = \\n\", Xkp, \"\\n\\n\")\n",
        "    # Step 2: Predicted Process Covariance\n",
        "    Pkp = PredictedProcessCovariance(Pkminus1, dt)\n",
        "    print(f\"P{k}p = \\n\", Pkp, \"\\n\\n\")\n",
        "    # Step 3: Calculate the Kalman Gain\n",
        "    KG = KalmanGain(Pkp, dx, dVx)\n",
        "    print(f\"K{k} = \\n\", KG, \"\\n\\n\")\n",
        "    # Step 4: Finding New Observation\n",
        "    # Here k is taken instead of k+1 because of 0 indexing in the x and vx\n",
        "    list\n",
        "    Yk = newObservation(x[k], vx[k])\n",
        "    print(f\"Y{k} = \\n\", Yk, \"\\n\\n\")\n",
        "    # Step 5: Calculate the current Estimate State\n",
        "    Xk = CurrentEstimate(Xkp, KG , Yk)\n",
        "    final_results.append(Xk)\n",
        "    print(f\"X{k} = \\n\", Xk, \"\\n\\n\")\n",
        "\n",
        "    # If not last iteration - update the matrices\n",
        "    if (k==len(x)-1):\n",
        "      break\n",
        "\n",
        "    # Step 6: Updating Process Covariance Matrix\n",
        "\n",
        "    Pminus1 = newProcessCovMat(KG, Pkp)\n",
        "    print(\"New P = \\n\", Pminus1, \"\\n\\n\")\n",
        "    # Step 7: Updating State Matrix\n",
        "    Xkminus1 = Xk\n",
        "\n",
        "  return final_results"
      ],
      "metadata": {
        "id": "K05Ei4RWZFJe"
      },
      "execution_count": null,
      "outputs": []
    },
    {
      "cell_type": "code",
      "source": [
        "x = [x0, x1, x2, x3, x4]\n",
        "vx = [vx0, vx1, vx2, vx3, vx4]"
      ],
      "metadata": {
        "id": "SlkUhL4OZH2v"
      },
      "execution_count": null,
      "outputs": []
    },
    {
      "cell_type": "code",
      "source": [
        "final_result = KalmanFilter(x, vx, dt, ax, dPx, dPvx)"
      ],
      "metadata": {
        "colab": {
          "base_uri": "https://localhost:8080/"
        },
        "id": "TQL43cZ6Zg58",
        "outputId": "fe1afe59-0a58-49c6-9c1a-036e297ac09a"
      },
      "execution_count": null,
      "outputs": [
        {
          "output_type": "stream",
          "name": "stdout",
          "text": [
            "--------------------------------------------------------------------------------------\n",
            "Iteration with k =  1\n",
            "--------------------------------------------------------------------------------------\n",
            "X1p = \n",
            " [[ 4281.000]\n",
            " [ 282.000]] \n",
            "\n",
            "\n",
            "P1p = \n",
            " [[ 425.000  0.000]\n",
            " [ 0.000  25.000]] \n",
            "\n",
            "\n",
            "K1 = \n",
            " [[ 0.405  0.000]\n",
            " [ 0.000  0.410]] \n",
            "\n",
            "\n",
            "Y1 = \n",
            " [[ 4260.000]\n",
            " [ 282.000]] \n",
            "\n",
            "\n",
            "X1 = \n",
            " [[ 4272.500]\n",
            " [ 282.000]] \n",
            "\n",
            "\n",
            "New P = \n",
            " [[ 252.976  0.000]\n",
            " [ 0.000  14.754]] \n",
            "\n",
            "\n",
            "--------------------------------------------------------------------------------------\n",
            "Iteration with k =  2\n",
            "--------------------------------------------------------------------------------------\n",
            "X2p = \n",
            " [[ 4555.500]\n",
            " [ 284.000]] \n",
            "\n",
            "\n",
            "P2p = \n",
            " [[ 425.000  0.000]\n",
            " [ 0.000  25.000]] \n",
            "\n",
            "\n",
            "K2 = \n",
            " [[ 0.405  0.000]\n",
            " [ 0.000  0.410]] \n",
            "\n",
            "\n",
            "Y2 = \n",
            " [[ 4550.000]\n",
            " [ 285.000]] \n",
            "\n",
            "\n",
            "X2 = \n",
            " [[ 4553.274]\n",
            " [ 284.410]] \n",
            "\n",
            "\n",
            "New P = \n",
            " [[ 252.976  0.000]\n",
            " [ 0.000  14.754]] \n",
            "\n",
            "\n",
            "--------------------------------------------------------------------------------------\n",
            "Iteration with k =  3\n",
            "--------------------------------------------------------------------------------------\n",
            "X3p = \n",
            " [[ 4838.684]\n",
            " [ 286.410]] \n",
            "\n",
            "\n",
            "P3p = \n",
            " [[ 425.000  0.000]\n",
            " [ 0.000  25.000]] \n",
            "\n",
            "\n",
            "K3 = \n",
            " [[ 0.405  0.000]\n",
            " [ 0.000  0.410]] \n",
            "\n",
            "\n",
            "Y3 = \n",
            " [[ 4860.000]\n",
            " [ 286.000]] \n",
            "\n",
            "\n",
            "X3 = \n",
            " [[ 4847.312]\n",
            " [ 286.242]] \n",
            "\n",
            "\n",
            "New P = \n",
            " [[ 252.976  0.000]\n",
            " [ 0.000  14.754]] \n",
            "\n",
            "\n",
            "--------------------------------------------------------------------------------------\n",
            "Iteration with k =  4\n",
            "--------------------------------------------------------------------------------------\n",
            "X4p = \n",
            " [[ 5134.554]\n",
            " [ 288.242]] \n",
            "\n",
            "\n",
            "P4p = \n",
            " [[ 425.000  0.000]\n",
            " [ 0.000  25.000]] \n",
            "\n",
            "\n",
            "K4 = \n",
            " [[ 0.405  0.000]\n",
            " [ 0.000  0.410]] \n",
            "\n",
            "\n",
            "Y4 = \n",
            " [[ 5110.000]\n",
            " [ 290.000]] \n",
            "\n",
            "\n",
            "X4 = \n",
            " [[ 5124.615]\n",
            " [ 288.962]] \n",
            "\n",
            "\n"
          ]
        }
      ]
    },
    {
      "cell_type": "code",
      "source": [
        "for i in range(len(final_result)):\n",
        "\n",
        "  print(f'X{i+1} = \\n', final_result[i], '\\n')"
      ],
      "metadata": {
        "colab": {
          "base_uri": "https://localhost:8080/"
        },
        "id": "1rrj54QOZw8L",
        "outputId": "000a68ba-a06e-4e11-99d8-281104fe666e"
      },
      "execution_count": null,
      "outputs": [
        {
          "output_type": "stream",
          "name": "stdout",
          "text": [
            "X1 = \n",
            " [[ 4272.500]\n",
            " [ 282.000]] \n",
            "\n",
            "X2 = \n",
            " [[ 4553.274]\n",
            " [ 284.410]] \n",
            "\n",
            "X3 = \n",
            " [[ 4847.312]\n",
            " [ 286.242]] \n",
            "\n",
            "X4 = \n",
            " [[ 5124.615]\n",
            " [ 288.962]] \n",
            "\n"
          ]
        }
      ]
    }
  ]
}